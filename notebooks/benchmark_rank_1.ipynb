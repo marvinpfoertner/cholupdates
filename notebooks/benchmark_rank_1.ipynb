{
 "cells": [
  {
   "cell_type": "markdown",
   "metadata": {},
   "source": [
    "# Benchmark Rank-1 Modifications"
   ]
  },
  {
   "cell_type": "code",
   "execution_count": null,
   "metadata": {},
   "outputs": [],
   "source": [
    "import numpy as np\n",
    "import scipy.linalg\n",
    "import scipy.stats\n",
    "\n",
    "import cholupdates\n",
    "import cholupdates.utils"
   ]
  },
  {
   "cell_type": "code",
   "execution_count": null,
   "metadata": {},
   "outputs": [],
   "source": [
    "N = 5000\n",
    "\n",
    "A = cholupdates.utils.random_spd_matrix(N, fast=True)\n",
    "L = scipy.linalg.cholesky(A, lower=True)"
   ]
  },
  {
   "cell_type": "markdown",
   "metadata": {},
   "source": [
    "## Update $A^+ = A + v v^T$"
   ]
  },
  {
   "cell_type": "code",
   "execution_count": null,
   "metadata": {},
   "outputs": [],
   "source": [
    "v_ud = scipy.stats.norm.rvs(scale=10.0, size=N)"
   ]
  },
  {
   "cell_type": "markdown",
   "metadata": {},
   "source": [
    "### Naive Implementations"
   ]
  },
  {
   "cell_type": "code",
   "execution_count": null,
   "metadata": {},
   "outputs": [],
   "source": [
    "%%timeit\n",
    "np.linalg.cholesky(A + np.outer(v_ud, v_ud))"
   ]
  },
  {
   "cell_type": "code",
   "execution_count": null,
   "metadata": {},
   "outputs": [],
   "source": [
    "%%timeit\n",
    "scipy.linalg.cho_factor(A + np.outer(v_ud, v_ud), check_finite=False)"
   ]
  },
  {
   "cell_type": "code",
   "execution_count": null,
   "metadata": {},
   "outputs": [],
   "source": [
    "%%timeit\n",
    "cholupdates.rank_1.update(\n",
    "    L, v_ud,\n",
    "    check_diag=False,\n",
    "    method=\"cho_factor\",\n",
    "    check_finite=False,\n",
    ")"
   ]
  },
  {
   "cell_type": "code",
   "execution_count": null,
   "metadata": {},
   "outputs": [],
   "source": [
    "%%timeit\n",
    "L_T_aug = np.vstack((L.T, v_ud))\n",
    "R_aug, = scipy.linalg.qr(L_T_aug, mode=\"r\")\n",
    "L_ud = R_aug[:-1, :].T"
   ]
  },
  {
   "cell_type": "markdown",
   "metadata": {},
   "source": [
    "### Seeger Algorithm"
   ]
  },
  {
   "cell_type": "code",
   "execution_count": null,
   "metadata": {},
   "outputs": [],
   "source": [
    "%%timeit\n",
    "cholupdates.rank_1.update(\n",
    "    L, v_ud,\n",
    "    check_diag=False,\n",
    "    method=\"seeger\",\n",
    "    impl=\"python\",\n",
    ")"
   ]
  },
  {
   "cell_type": "code",
   "execution_count": null,
   "metadata": {},
   "outputs": [],
   "source": [
    "%%timeit\n",
    "cholupdates.rank_1.update(\n",
    "    L, v_ud,\n",
    "    check_diag=False,\n",
    "    method=\"seeger\",\n",
    "    impl=\"cython\",\n",
    ")"
   ]
  },
  {
   "cell_type": "markdown",
   "metadata": {},
   "source": [
    "### Seeger Algorithm (in-place)"
   ]
  },
  {
   "cell_type": "code",
   "execution_count": null,
   "metadata": {},
   "outputs": [],
   "source": [
    "%%timeit L_copy = L.copy(order=\"K\"); v_ud_copy = v_ud.copy()\n",
    "cholupdates.rank_1.update(\n",
    "    L_copy, v_ud_copy,\n",
    "    check_diag=False,\n",
    "    overwrite_L=True,\n",
    "    overwrite_v=True,\n",
    "    method=\"seeger\",\n",
    "    impl=\"python\",\n",
    ")"
   ]
  },
  {
   "cell_type": "code",
   "execution_count": null,
   "metadata": {},
   "outputs": [],
   "source": [
    "%%timeit L_copy = L.copy(order=\"K\"); v_ud_copy = v_ud.copy()\n",
    "cholupdates.rank_1.update(\n",
    "    L_copy, v_ud_copy,\n",
    "    check_diag=False,\n",
    "    overwrite_L=True,\n",
    "    overwrite_v=True,\n",
    "    method=\"seeger\",\n",
    "    impl=\"cython\",\n",
    ")"
   ]
  },
  {
   "cell_type": "markdown",
   "metadata": {},
   "source": [
    "## Downdate $A^- = A - v v^T$"
   ]
  },
  {
   "cell_type": "code",
   "execution_count": null,
   "metadata": {},
   "outputs": [],
   "source": [
    "v_dd = cholupdates.utils.random_rank_1_downdate(L)"
   ]
  },
  {
   "cell_type": "markdown",
   "metadata": {},
   "source": [
    "### Naive Implementations"
   ]
  },
  {
   "cell_type": "code",
   "execution_count": null,
   "metadata": {},
   "outputs": [],
   "source": [
    "%%timeit\n",
    "np.linalg.cholesky(A - np.outer(v_dd, v_dd))"
   ]
  },
  {
   "cell_type": "code",
   "execution_count": null,
   "metadata": {},
   "outputs": [],
   "source": [
    "%%timeit\n",
    "scipy.linalg.cho_factor(A - np.outer(v_dd, v_dd), check_finite=False)"
   ]
  },
  {
   "cell_type": "code",
   "execution_count": null,
   "metadata": {},
   "outputs": [],
   "source": [
    "%%timeit\n",
    "cholupdates.rank_1.downdate(\n",
    "    L, v_dd,\n",
    "    check_diag=False,\n",
    "    method=\"cho_factor\",\n",
    "    check_finite=False,\n",
    ")"
   ]
  },
  {
   "cell_type": "markdown",
   "metadata": {},
   "source": [
    "### Seeger Algorithm"
   ]
  },
  {
   "cell_type": "code",
   "execution_count": null,
   "metadata": {},
   "outputs": [],
   "source": [
    "%%timeit\n",
    "cholupdates.rank_1.downdate(\n",
    "    L, v_dd,\n",
    "    check_diag=False,\n",
    "    method=\"seeger\",\n",
    "    impl=\"python\",\n",
    ")"
   ]
  },
  {
   "cell_type": "code",
   "execution_count": null,
   "metadata": {},
   "outputs": [],
   "source": [
    "%%timeit\n",
    "cholupdates.rank_1.downdate(\n",
    "    L, v_dd,\n",
    "    check_diag=False,\n",
    "    method=\"seeger\",\n",
    "    impl=\"cython\",\n",
    ")"
   ]
  },
  {
   "cell_type": "markdown",
   "metadata": {
    "tags": []
   },
   "source": [
    "### Seeger Algorithm (in-place)"
   ]
  },
  {
   "cell_type": "code",
   "execution_count": null,
   "metadata": {},
   "outputs": [],
   "source": [
    "%%timeit L_copy = L.copy(order=\"K\"); v_dd_copy = v_dd.copy()\n",
    "cholupdates.rank_1.downdate(\n",
    "    L_copy, v_dd_copy,\n",
    "    check_diag=False,\n",
    "    overwrite_L=True,\n",
    "    overwrite_v=True,\n",
    "    method=\"seeger\",\n",
    "    impl=\"python\",\n",
    ")"
   ]
  },
  {
   "cell_type": "code",
   "execution_count": null,
   "metadata": {},
   "outputs": [],
   "source": [
    "%%timeit L_copy = L.copy(order=\"K\"); v_dd_copy = v_dd.copy()\n",
    "cholupdates.rank_1.downdate(\n",
    "    L_copy, v_dd_copy,\n",
    "    check_diag=False,\n",
    "    overwrite_L=True,\n",
    "    overwrite_v=True,\n",
    "    method=\"seeger\",\n",
    "    impl=\"cython\",\n",
    ")"
   ]
  },
  {
   "cell_type": "code",
   "execution_count": null,
   "metadata": {},
   "outputs": [],
   "source": []
  }
 ],
 "metadata": {
  "kernelspec": {
   "display_name": "Python [conda env:cholupdates]",
   "language": "python",
   "name": "conda-env-cholupdates-py"
  },
  "language_info": {
   "codemirror_mode": {
    "name": "ipython",
    "version": 3
   },
   "file_extension": ".py",
   "mimetype": "text/x-python",
   "name": "python",
   "nbconvert_exporter": "python",
   "pygments_lexer": "ipython3",
   "version": "3.9.6"
  }
 },
 "nbformat": 4,
 "nbformat_minor": 4
}
