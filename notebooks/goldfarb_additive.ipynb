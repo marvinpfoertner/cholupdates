{
 "cells": [
  {
   "cell_type": "code",
   "execution_count": 1,
   "metadata": {},
   "outputs": [],
   "source": [
    "import numpy as np\n",
    "import scipy.linalg"
   ]
  },
  {
   "cell_type": "code",
   "execution_count": 2,
   "metadata": {},
   "outputs": [],
   "source": [
    "N = 3\n",
    "\n",
    "u = 2 * np.random.randn(N) ** 2\n",
    "v = 2 * np.random.randn(N) ** 2\n",
    "\n",
    "A = np.random.randn(N, N)\n",
    "A = 10 * np.eye(N) + A @ A.T\n",
    "\n",
    "L = np.linalg.cholesky(A)\n",
    "\n",
    "A_prime = A + np.outer(u, u) - np.outer(v, v)"
   ]
  },
  {
   "cell_type": "code",
   "execution_count": 3,
   "metadata": {},
   "outputs": [
    {
     "data": {
      "text/plain": [
       "(array([[11.4383179 ,  1.27114028, -0.21721925],\n",
       "        [ 1.27114028, 14.35630702, -3.41958074],\n",
       "        [-0.21721925, -3.41958074, 13.32731246]]),\n",
       " array([[ 3.38205823,  0.        ,  0.        ],\n",
       "        [ 0.37584814,  3.7702845 ,  0.        ],\n",
       "        [-0.06422694, -0.90057956,  3.53725088]]))"
      ]
     },
     "execution_count": 3,
     "metadata": {},
     "output_type": "execute_result"
    }
   ],
   "source": [
    "A, L"
   ]
  },
  {
   "cell_type": "code",
   "execution_count": 4,
   "metadata": {},
   "outputs": [
    {
     "data": {
      "text/plain": [
       "(array([[15.83538485, 10.01719734, -0.09369509],\n",
       "        [10.01719734, 31.7199122 , -3.28967961],\n",
       "        [-0.09369509, -3.28967961, 12.9229821 ]]),\n",
       " array([[ 3.97936991,  0.        ,  0.        ],\n",
       "        [ 2.51728228,  5.03817448,  0.        ],\n",
       "        [-0.02354521, -0.64118654,  3.53713267]]))"
      ]
     },
     "execution_count": 4,
     "metadata": {},
     "output_type": "execute_result"
    }
   ],
   "source": [
    "A_prime, np.linalg.cholesky(A_prime)"
   ]
  },
  {
   "cell_type": "code",
   "execution_count": 5,
   "metadata": {},
   "outputs": [],
   "source": [
    "D = np.diag(L).copy()\n",
    "L = L / D\n",
    "D = D ** 2"
   ]
  },
  {
   "cell_type": "code",
   "execution_count": 6,
   "metadata": {},
   "outputs": [
    {
     "data": {
      "text/plain": [
       "(array([[ 1.        ,  0.        ,  0.        ],\n",
       "        [ 0.11113   ,  1.        ,  0.        ],\n",
       "        [-0.01899049, -0.2388625 ,  1.        ]]),\n",
       " array([11.4383179 , 14.2150452 , 12.51214381]))"
      ]
     },
     "execution_count": 6,
     "metadata": {},
     "output_type": "execute_result"
    }
   ],
   "source": [
    "L, D"
   ]
  },
  {
   "cell_type": "code",
   "execution_count": 7,
   "metadata": {},
   "outputs": [
    {
     "data": {
      "text/plain": [
       "array([[11.4383179 ,  1.27114028, -0.21721925],\n",
       "       [ 1.27114028, 14.35630702, -3.41958074],\n",
       "       [-0.21721925, -3.41958074, 13.32731246]])"
      ]
     },
     "execution_count": 7,
     "metadata": {},
     "output_type": "execute_result"
    }
   ],
   "source": [
    "L @ np.diag(D) @ L.T"
   ]
  },
  {
   "cell_type": "code",
   "execution_count": 8,
   "metadata": {},
   "outputs": [
    {
     "data": {
      "text/plain": [
       "(array([[2.11845284, 0.30128973],\n",
       "        [4.23979688, 0.78247835],\n",
       "        [0.15126677, 0.65361457]]),\n",
       " array([[ 1,  0],\n",
       "        [ 0, -1]]))"
      ]
     },
     "execution_count": 8,
     "metadata": {},
     "output_type": "execute_result"
    }
   ],
   "source": [
    "Z = np.hstack((u[:, None], v[:, None]))\n",
    "B = np.diag([1, -1])\n",
    "\n",
    "Z, B"
   ]
  },
  {
   "cell_type": "code",
   "execution_count": 9,
   "metadata": {},
   "outputs": [],
   "source": [
    "H = scipy.linalg.solve_triangular(L, Z, lower=True)\n",
    "V = H / D[:, None]"
   ]
  },
  {
   "cell_type": "code",
   "execution_count": 10,
   "metadata": {},
   "outputs": [
    {
     "data": {
      "text/plain": [
       "array([[ 0.48557026,  0.00306146],\n",
       "       [ 0.00306146, -0.50095951]])"
      ]
     },
     "execution_count": 10,
     "metadata": {},
     "output_type": "execute_result"
    }
   ],
   "source": [
    "X = V.T @ V\n",
    "Lambda, Q = np.linalg.eigh(X)\n",
    "X_sqrt = Q @ np.diag(np.sqrt(Lambda)) @ Q.T\n",
    "X_rsqrt = Q @ np.diag(1.0 / np.sqrt(Lambda)) @ Q.T\n",
    "\n",
    "IXB = np.eye(2) + X_sqrt @ B @ X_sqrt\n",
    "Lambda_IXB, Q_IXB = np.linalg.eigh(IXB)\n",
    "IXB_sqrt = Q_IXB @ np.diag(np.sqrt(Lambda_IXB)) @ Q_IXB.T\n",
    "\n",
    "C = X_rsqrt @ (-np.eye(2) + IXB_sqrt) @ X_rsqrt\n",
    "C"
   ]
  },
  {
   "cell_type": "code",
   "execution_count": 16,
   "metadata": {},
   "outputs": [
    {
     "data": {
      "text/plain": [
       "array([[1.01633809, 0.02469081, 0.00741254],\n",
       "       [0.02469081, 1.03723236, 0.01085426],\n",
       "       [0.00741254, 0.01085426, 1.00187679]])"
      ]
     },
     "execution_count": 16,
     "metadata": {},
     "output_type": "execute_result"
    }
   ],
   "source": [
    "(np.eye(N) + V @ C @ V.T)"
   ]
  },
  {
   "cell_type": "code",
   "execution_count": 11,
   "metadata": {},
   "outputs": [
    {
     "data": {
      "text/plain": [
       "(array([[1.0336077 , 0.05078477, 0.01522809],\n",
       "        [0.05078477, 1.07657842, 0.02231604],\n",
       "        [0.01522809, 0.02231604, 1.00392985]]),\n",
       " array([[1.0336077 , 0.05078477, 0.01522809],\n",
       "        [0.05078477, 1.07657842, 0.02231604],\n",
       "        [0.01522809, 0.02231604, 1.00392985]]))"
      ]
     },
     "execution_count": 11,
     "metadata": {},
     "output_type": "execute_result"
    }
   ],
   "source": [
    "(np.eye(N) + V @ B @ V.T), (np.eye(N) + V @ C @ V.T) @ (np.eye(N) + V @ C @ V.T)"
   ]
  },
  {
   "cell_type": "code",
   "execution_count": 17,
   "metadata": {},
   "outputs": [],
   "source": [
    "C_s = C\n",
    "W = Z\n",
    "W_bar_s = ((H.T / D[None, :]) @ H)\n",
    "\n",
    "L_prime = np.eye(N) + V @ C @ V.T\n",
    "\n",
    "for s in range(N):\n",
    "    f_hat = C_s @ H[s, :]\n",
    "    theta = 1 + H[s, :] @ f_hat / D[s]\n",
    "    W_bar_s = W_bar_s - np.outer(H[s, :], H[s, :]) / D[s]\n",
    "    y = W_bar_s @ f_hat\n",
    "    k = C @ y\n",
    "    x_bar = f_hat.T @ y / D[s]\n",
    "    g = np.sqrt(theta ** 2 + x_bar)\n",
    "    r_s = ((1 + theta) * f_hat + k) / (g ** 2 * D[s])\n",
    "    q = -((1 + theta + g) * f_hat + k) / (g * D[s] * (theta + g))\n",
    "    C_s = C_s + np.outer(q, f_hat)\n",
    "    d_bar_s = g ** 2 * D[s]\n",
    "    \n",
    "    for t in range(s + 1, N):\n",
    "        w_t_s = V[t, :] - L_prime[t, s] * H[s, :].T\n",
    "        L_prime[t, s] = w_t_s @ r_s"
   ]
  },
  {
   "cell_type": "code",
   "execution_count": 18,
   "metadata": {},
   "outputs": [
    {
     "data": {
      "text/plain": [
       "array([[1.01633809, 0.02469081, 0.00741254],\n",
       "       [0.02134402, 1.03723236, 0.01085426],\n",
       "       [0.02722256, 0.02928731, 1.00187679]])"
      ]
     },
     "execution_count": 18,
     "metadata": {},
     "output_type": "execute_result"
    }
   ],
   "source": [
    "L_prime"
   ]
  },
  {
   "cell_type": "code",
   "execution_count": null,
   "metadata": {},
   "outputs": [],
   "source": []
  }
 ],
 "metadata": {
  "kernelspec": {
   "display_name": "Python [conda env:probnum]",
   "language": "python",
   "name": "conda-env-probnum-py"
  },
  "language_info": {
   "codemirror_mode": {
    "name": "ipython",
    "version": 3
   },
   "file_extension": ".py",
   "mimetype": "text/x-python",
   "name": "python",
   "nbconvert_exporter": "python",
   "pygments_lexer": "ipython3",
   "version": "3.8.5"
  }
 },
 "nbformat": 4,
 "nbformat_minor": 4
}
