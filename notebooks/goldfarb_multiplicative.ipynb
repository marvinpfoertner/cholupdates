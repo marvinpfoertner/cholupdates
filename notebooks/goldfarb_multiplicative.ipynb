{
 "cells": [
  {
   "cell_type": "code",
   "execution_count": 1,
   "metadata": {},
   "outputs": [],
   "source": [
    "import numpy as np\n",
    "import scipy.linalg"
   ]
  },
  {
   "cell_type": "code",
   "execution_count": 2,
   "metadata": {},
   "outputs": [],
   "source": [
    "N = 3\n",
    "\n",
    "u = np.random.randn(N) ** 2\n",
    "v = np.random.randn(N) ** 2\n",
    "\n",
    "A = np.random.randn(N, N)\n",
    "A = 10 * np.eye(N) + A @ A.T\n",
    "\n",
    "L = np.linalg.cholesky(A)\n",
    "\n",
    "A_prime = (np.eye(N) + np.outer(v, u)) @ A @ (np.eye(N) + np.outer(u, v))"
   ]
  },
  {
   "cell_type": "code",
   "execution_count": 3,
   "metadata": {},
   "outputs": [
    {
     "data": {
      "text/plain": [
       "(array([[11.26183562, -0.38452658,  1.74919203],\n",
       "        [-0.38452658, 10.63368655, -1.61248075],\n",
       "        [ 1.74919203, -1.61248075, 15.07942133]]),\n",
       " array([[ 3.35586585,  0.        ,  0.        ],\n",
       "        [-0.11458342,  3.25891964,  0.        ],\n",
       "        [ 0.52123419, -0.47646341,  3.81847075]]))"
      ]
     },
     "execution_count": 3,
     "metadata": {},
     "output_type": "execute_result"
    }
   ],
   "source": [
    "A, L"
   ]
  },
  {
   "cell_type": "code",
   "execution_count": 4,
   "metadata": {},
   "outputs": [
    {
     "data": {
      "text/plain": [
       "array([[ 13.13353263,   4.56364762,  65.13175181],\n",
       "       [  4.56364762,  12.25523324,  27.30645806],\n",
       "       [ 65.13175181,  27.30645806, 484.08806673]])"
      ]
     },
     "execution_count": 4,
     "metadata": {},
     "output_type": "execute_result"
    }
   ],
   "source": [
    "A_prime"
   ]
  },
  {
   "cell_type": "code",
   "execution_count": 5,
   "metadata": {},
   "outputs": [],
   "source": [
    "z = scipy.linalg.solve_triangular(L, v, lower=True)\n",
    "w = scipy.linalg.solve_triangular(L, A @ u, lower=True)"
   ]
  },
  {
   "cell_type": "code",
   "execution_count": 6,
   "metadata": {},
   "outputs": [
    {
     "data": {
      "text/plain": [
       "array([0.00595764, 0.03160829, 0.33717848])"
      ]
     },
     "execution_count": 6,
     "metadata": {},
     "output_type": "execute_result"
    }
   ],
   "source": [
    "z"
   ]
  },
  {
   "cell_type": "code",
   "execution_count": 7,
   "metadata": {},
   "outputs": [
    {
     "data": {
      "text/plain": [
       "array([13.25685082, -0.74692641,  7.47195607])"
      ]
     },
     "execution_count": 7,
     "metadata": {},
     "output_type": "execute_result"
    }
   ],
   "source": [
    "w"
   ]
  },
  {
   "cell_type": "code",
   "execution_count": 8,
   "metadata": {},
   "outputs": [
    {
     "data": {
      "text/plain": [
       "array([ 0.06563453,  0.11587221, -0.01331221])"
      ]
     },
     "execution_count": 8,
     "metadata": {},
     "output_type": "execute_result"
    }
   ],
   "source": [
    "beta_bar = np.zeros(N)\n",
    "s = np.zeros(N)\n",
    "\n",
    "beta_bar[-1] = 1.0 / w[-1]\n",
    "\n",
    "for j in range(N - 1 - 1, -1, -1):\n",
    "    r = beta_bar[j + 1] * w[j]\n",
    "    s_j = 1.0 / np.sqrt(r ** 2 + 1)\n",
    "    c = r * s_j\n",
    "    s[j] = s_j\n",
    "    beta_bar[j] = s[j] * beta_bar[j + 1]\n",
    "    beta_bar[j + 1] *= c\n",
    "\n",
    "beta_bar"
   ]
  },
  {
   "cell_type": "code",
   "execution_count": 9,
   "metadata": {},
   "outputs": [
    {
     "data": {
      "text/plain": [
       "array([[ 0.87010718, -0.04902416,  0.49041833],\n",
       "       [-0.49286256, -0.08654802,  0.86579209],\n",
       "       [ 0.        , -0.99504074, -0.09946823]])"
      ]
     },
     "execution_count": 9,
     "metadata": {},
     "output_type": "execute_result"
    }
   ],
   "source": [
    "Q_0 = np.triu(beta_bar[:, None] * w[None, :]) + np.diag(-s[:-1], -1)\n",
    "Q_0"
   ]
  },
  {
   "cell_type": "code",
   "execution_count": 10,
   "metadata": {},
   "outputs": [
    {
     "data": {
      "text/plain": [
       "array([[ 0.96087706, -0.49286256,  0.        ],\n",
       "       [ 0.43255609, -0.08654802, -0.99504074],\n",
       "       [ 5.62763009,  0.86579209, -0.09946823]])"
      ]
     },
     "execution_count": 10,
     "metadata": {},
     "output_type": "execute_result"
    }
   ],
   "source": [
    "H_bar = Q_0.T.copy()\n",
    "H_bar[:, 0] += (1.0 / beta_bar[0]) * z\n",
    "H_bar"
   ]
  },
  {
   "cell_type": "code",
   "execution_count": 15,
   "metadata": {},
   "outputs": [],
   "source": [
    "L_bar = H_bar.copy(order=\"F\")\n",
    "\n",
    "for j in range(N - 1):\n",
    "    c, s = scipy.linalg.blas.drotg(L_bar[j, j], L_bar[j, j + 1])\n",
    "    \n",
    "    x, y = scipy.linalg.blas.drot(x=L_bar[j, j], y=L_bar[j, j + 1], c=c, s=s)\n",
    "    \n",
    "    if x < 0:\n",
    "        c = -c\n",
    "        s = -s\n",
    "    \n",
    "    scipy.linalg.blas.drot(\n",
    "        x=L_bar[j:, j],\n",
    "        y=L_bar[j:, j + 1],\n",
    "        c=c,\n",
    "        s=s,\n",
    "        overwrite_x=True,\n",
    "        overwrite_y=True,\n",
    "    )\n",
    "    \n",
    "L_bar = np.tril(L_bar)"
   ]
  },
  {
   "cell_type": "code",
   "execution_count": 16,
   "metadata": {},
   "outputs": [],
   "source": [
    "L_prime = L @ L_bar"
   ]
  },
  {
   "cell_type": "code",
   "execution_count": 17,
   "metadata": {},
   "outputs": [
    {
     "data": {
      "text/plain": [
       "array([[ 3.62402161,  0.        ,  0.        ],\n",
       "       [ 1.25927715,  3.26641306,  0.        ],\n",
       "       [17.97223053,  1.43106174, 12.6110689 ]])"
      ]
     },
     "execution_count": 17,
     "metadata": {},
     "output_type": "execute_result"
    }
   ],
   "source": [
    "L_prime"
   ]
  },
  {
   "cell_type": "code",
   "execution_count": 19,
   "metadata": {},
   "outputs": [
    {
     "data": {
      "text/plain": [
       "array([[-4.44089210e-16,  0.00000000e+00,  0.00000000e+00],\n",
       "       [-4.44089210e-16,  4.44089210e-16,  0.00000000e+00],\n",
       "       [ 0.00000000e+00,  1.33226763e-15,  1.77635684e-15]])"
      ]
     },
     "execution_count": 19,
     "metadata": {},
     "output_type": "execute_result"
    }
   ],
   "source": [
    "np.linalg.cholesky(A_prime) - L_prime"
   ]
  },
  {
   "cell_type": "code",
   "execution_count": null,
   "metadata": {},
   "outputs": [],
   "source": [
    "L_prime @ L_prime.T"
   ]
  },
  {
   "cell_type": "code",
   "execution_count": null,
   "metadata": {},
   "outputs": [],
   "source": [
    "A_prime"
   ]
  },
  {
   "cell_type": "code",
   "execution_count": null,
   "metadata": {},
   "outputs": [],
   "source": [
    "np.linalg.cholesky(A_prime) @ np.linalg.cholesky(A_prime).T"
   ]
  },
  {
   "cell_type": "code",
   "execution_count": null,
   "metadata": {},
   "outputs": [],
   "source": []
  }
 ],
 "metadata": {
  "kernelspec": {
   "display_name": "Python [conda env:probnum]",
   "language": "python",
   "name": "conda-env-probnum-py"
  },
  "language_info": {
   "codemirror_mode": {
    "name": "ipython",
    "version": 3
   },
   "file_extension": ".py",
   "mimetype": "text/x-python",
   "name": "python",
   "nbconvert_exporter": "python",
   "pygments_lexer": "ipython3",
   "version": "3.8.5"
  }
 },
 "nbformat": 4,
 "nbformat_minor": 4
}
